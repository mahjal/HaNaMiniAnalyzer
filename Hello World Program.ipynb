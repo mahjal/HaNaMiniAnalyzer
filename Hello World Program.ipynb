{
 "cells": [
  {
   "attachments": {},
   "cell_type": "markdown",
   "id": "6572174f",
   "metadata": {},
   "source": [
    "# Import Essentials:"
   ]
  },
  {
   "cell_type": "code",
   "execution_count": 7,
   "id": "38c5dd2d",
   "metadata": {},
   "outputs": [],
   "source": [
    "from PUGNN import SW, HomoDataset, HomoDataReader, Trainer, DataLoader\n",
    "import numpy as np"
   ]
  },
  {
   "attachments": {},
   "cell_type": "markdown",
   "id": "b1da7261",
   "metadata": {},
   "source": [
    "# Specify the `output` and `input` directories:"
   ]
  },
  {
   "cell_type": "code",
   "execution_count": 8,
   "id": "10484625",
   "metadata": {},
   "outputs": [],
   "source": [
    "input_directory  = \"/eos/user/m/mjalalva/Run1/jun4/\"\n",
    "output_directory = './'"
   ]
  },
  {
   "attachments": {},
   "cell_type": "markdown",
   "id": "b51b4e6a",
   "metadata": {},
   "source": [
    "# Define a model and some metrics:"
   ]
  },
  {
   "cell_type": "code",
   "execution_count": 9,
   "id": "1d336044",
   "metadata": {},
   "outputs": [],
   "source": [
    "from torch_geometric.nn import GraphConv, MLP, global_add_pool, GATv2Conv, LayerNorm, global_mean_pool\n",
    "import torch\n",
    "import torch.nn.functional as F\n",
    "\n",
    "\n",
    "class PUModel(torch.nn.Module):\n",
    "    def __init__(self, in_channels, hidden_channels, out_channels, num_features, GNN=GraphConv):\n",
    "        super(PUModel, self).__init__()\n",
    "        torch.manual_seed(12345)\n",
    "        self.num_features = num_features\n",
    "        \n",
    "        self.conv1 = GNN(in_channels, hidden_channels, edge_dim=1, add_self_loops=False)\n",
    "        self.norm1 = LayerNorm(hidden_channels)\n",
    "        self.mlp1  = MLP([hidden_channels + num_features, 2*hidden_channels, 2*hidden_channels], norm='layer_norm')\n",
    "        \n",
    "        self.conv2 = GNN(hidden_channels, hidden_channels, edge_dim=1, add_self_loops=False)\n",
    "        self.norm2 = LayerNorm(hidden_channels)\n",
    "        self.mlp2  = MLP([3*hidden_channels + num_features, 2*hidden_channels, hidden_channels, hidden_channels//2, out_channels], norm='layer_norm')\n",
    "        \n",
    "    def forward(self, data):\n",
    "        x, adj, features, batch = data.x, data.adj_t, torch.reshape(data.features, (-1, self.num_features)), data.batch\n",
    "        \n",
    "        # 1. Obtain node embeddings \n",
    "        x = self.conv1(x, adj)\n",
    "        x = self.norm1(x)\n",
    "        x = x.relu()\n",
    "        \n",
    "        g = self.mlp1(torch.cat([global_mean_pool(x, batch), features], dim=1))\n",
    "    \n",
    "        x = self.conv2(x, adj)\n",
    "        x = self.norm2(x)\n",
    "        x = x.relu()\n",
    "\n",
    "        g = self.mlp2(torch.cat([global_mean_pool(x, batch), g, features], dim=1))\n",
    "        \n",
    "        return g\n",
    "    \n",
    "class Bias(torch.nn.Module):\n",
    "    def __init__(self):\n",
    "        super().__init__()\n",
    "        return\n",
    "    \n",
    "    def forward(self, input, target):\n",
    "        return (input-target).mean()\n",
    "    \n",
    "class MAPE(torch.nn.Module):\n",
    "    def __init__(self):\n",
    "        super().__init__()\n",
    "        return\n",
    "        \n",
    "    def forward(self, input, target):\n",
    "        return (abs(input-target)/target).mean()"
   ]
  },
  {
   "cell_type": "code",
   "execution_count": 10,
   "id": "a437ee84",
   "metadata": {},
   "outputs": [],
   "source": [
    "model = PUModel(in_channels=15, hidden_channels=32, num_features=7, out_channels=1, GNN=GATv2Conv)"
   ]
  },
  {
   "attachments": {},
   "cell_type": "markdown",
   "id": "445e3c56",
   "metadata": {},
   "source": [
    "# Make an Instance of `SW` Class with Your `DataSet` and a `DataLoader` Class:"
   ]
  },
  {
   "cell_type": "code",
   "execution_count": null,
   "id": "ff7c6f17",
   "metadata": {},
   "outputs": [
    {
     "name": "stderr",
     "output_type": "stream",
     "text": [
      "Preprocessing...\n",
      "1 found at '/eos/user/m/mjalalva/Run1/jun4/'\n",
      "PU = 020 overflows... Setting PU = 020 to 67 instead of 100.0\n",
      "PU = 021 overflows... Setting PU = 021 to 89 instead of 100.0\n",
      "PU = 078 overflows... Setting PU = 078 to 82 instead of 100.0\n",
      "PU = 079 overflows... Setting PU = 079 to 59 instead of 100.0\n",
      "PU = 080 overflows... Setting PU = 080 to 69 instead of 100.0\n",
      "Initializing...\n"
     ]
    },
    {
     "data": {
      "application/vnd.jupyter.widget-view+json": {
       "model_id": "787ec97ae34e4e8f834dde989889cd73",
       "version_major": 2,
       "version_minor": 0
      },
      "text/plain": [
       "loading ...:   0%|          | 0/1491 [00:00<?, ?Batch/s]"
      ]
     },
     "metadata": {},
     "output_type": "display_data"
    },
    {
     "data": {
      "application/vnd.jupyter.widget-view+json": {
       "model_id": "6c6b3e023b6341c6b0b389a508865232",
       "version_major": 2,
       "version_minor": 0
      },
      "text/plain": [
       "preparing directory 'test' ...:   0%|          | 0/149 [00:00<?, ?Batch/s]"
      ]
     },
     "metadata": {},
     "output_type": "display_data"
    },
    {
     "name": "stderr",
     "output_type": "stream",
     "text": [
      "/cvmfs/sft.cern.ch/lcg/views/LCG_104a_cuda/x86_64-centos7-gcc11-opt/lib/python3.9/site-packages/torch_geometric/data/collate.py:145: UserWarning: TypedStorage is deprecated. It will be removed in the future and UntypedStorage will be the only storage class. This should only matter to you if you are using storages directly.  To access UntypedStorage directly, use tensor.untyped_storage() instead of tensor.storage()\n",
      "  storage = elem.storage()._new_shared(numel)\n",
      "/cvmfs/sft.cern.ch/lcg/views/LCG_104a_cuda/x86_64-centos7-gcc11-opt/lib/python3.9/site-packages/torch_geometric/data/collate.py:145: UserWarning: TypedStorage is deprecated. It will be removed in the future and UntypedStorage will be the only storage class. This should only matter to you if you are using storages directly.  To access UntypedStorage directly, use tensor.untyped_storage() instead of tensor.storage()\n",
      "  storage = elem.storage()._new_shared(numel)\n",
      "/cvmfs/sft.cern.ch/lcg/views/LCG_104a_cuda/x86_64-centos7-gcc11-opt/lib/python3.9/site-packages/torch_geometric/data/collate.py:145: UserWarning: TypedStorage is deprecated. It will be removed in the future and UntypedStorage will be the only storage class. This should only matter to you if you are using storages directly.  To access UntypedStorage directly, use tensor.untyped_storage() instead of tensor.storage()\n",
      "  storage = elem.storage()._new_shared(numel)\n",
      "/cvmfs/sft.cern.ch/lcg/views/LCG_104a_cuda/x86_64-centos7-gcc11-opt/lib/python3.9/site-packages/torch_geometric/data/collate.py:145: UserWarning: TypedStorage is deprecated. It will be removed in the future and UntypedStorage will be the only storage class. This should only matter to you if you are using storages directly.  To access UntypedStorage directly, use tensor.untyped_storage() instead of tensor.storage()\n",
      "  storage = elem.storage()._new_shared(numel)\n",
      "/cvmfs/sft.cern.ch/lcg/views/LCG_104a_cuda/x86_64-centos7-gcc11-opt/lib/python3.9/site-packages/torch_geometric/data/collate.py:145: UserWarning: TypedStorage is deprecated. It will be removed in the future and UntypedStorage will be the only storage class. This should only matter to you if you are using storages directly.  To access UntypedStorage directly, use tensor.untyped_storage() instead of tensor.storage()\n",
      "  storage = elem.storage()._new_shared(numel)\n",
      "/cvmfs/sft.cern.ch/lcg/views/LCG_104a_cuda/x86_64-centos7-gcc11-opt/lib/python3.9/site-packages/torch_geometric/data/collate.py:145: UserWarning: TypedStorage is deprecated. It will be removed in the future and UntypedStorage will be the only storage class. This should only matter to you if you are using storages directly.  To access UntypedStorage directly, use tensor.untyped_storage() instead of tensor.storage()\n",
      "  storage = elem.storage()._new_shared(numel)\n",
      "/cvmfs/sft.cern.ch/lcg/views/LCG_104a_cuda/x86_64-centos7-gcc11-opt/lib/python3.9/site-packages/torch_geometric/data/collate.py:145: UserWarning: TypedStorage is deprecated. It will be removed in the future and UntypedStorage will be the only storage class. This should only matter to you if you are using storages directly.  To access UntypedStorage directly, use tensor.untyped_storage() instead of tensor.storage()\n",
      "  storage = elem.storage()._new_shared(numel)\n",
      "/cvmfs/sft.cern.ch/lcg/views/LCG_104a_cuda/x86_64-centos7-gcc11-opt/lib/python3.9/site-packages/torch_geometric/data/collate.py:145: UserWarning: TypedStorage is deprecated. It will be removed in the future and UntypedStorage will be the only storage class. This should only matter to you if you are using storages directly.  To access UntypedStorage directly, use tensor.untyped_storage() instead of tensor.storage()\n",
      "  storage = elem.storage()._new_shared(numel)\n",
      "/cvmfs/sft.cern.ch/lcg/views/LCG_104a_cuda/x86_64-centos7-gcc11-opt/lib/python3.9/site-packages/torch_geometric/data/collate.py:145: UserWarning: TypedStorage is deprecated. It will be removed in the future and UntypedStorage will be the only storage class. This should only matter to you if you are using storages directly.  To access UntypedStorage directly, use tensor.untyped_storage() instead of tensor.storage()\n",
      "  storage = elem.storage()._new_shared(numel)\n",
      "/cvmfs/sft.cern.ch/lcg/views/LCG_104a_cuda/x86_64-centos7-gcc11-opt/lib/python3.9/site-packages/torch_geometric/data/collate.py:145: UserWarning: TypedStorage is deprecated. It will be removed in the future and UntypedStorage will be the only storage class. This should only matter to you if you are using storages directly.  To access UntypedStorage directly, use tensor.untyped_storage() instead of tensor.storage()\n",
      "  storage = elem.storage()._new_shared(numel)\n",
      "/cvmfs/sft.cern.ch/lcg/views/LCG_104a_cuda/x86_64-centos7-gcc11-opt/lib/python3.9/site-packages/torch_geometric/data/collate.py:145: UserWarning: TypedStorage is deprecated. It will be removed in the future and UntypedStorage will be the only storage class. This should only matter to you if you are using storages directly.  To access UntypedStorage directly, use tensor.untyped_storage() instead of tensor.storage()\n",
      "  storage = elem.storage()._new_shared(numel)\n",
      "/cvmfs/sft.cern.ch/lcg/views/LCG_104a_cuda/x86_64-centos7-gcc11-opt/lib/python3.9/site-packages/torch_geometric/data/collate.py:145: UserWarning: TypedStorage is deprecated. It will be removed in the future and UntypedStorage will be the only storage class. This should only matter to you if you are using storages directly.  To access UntypedStorage directly, use tensor.untyped_storage() instead of tensor.storage()\n",
      "  storage = elem.storage()._new_shared(numel)\n",
      "/cvmfs/sft.cern.ch/lcg/views/LCG_104a_cuda/x86_64-centos7-gcc11-opt/lib/python3.9/site-packages/torch_geometric/data/collate.py:145: UserWarning: TypedStorage is deprecated. It will be removed in the future and UntypedStorage will be the only storage class. This should only matter to you if you are using storages directly.  To access UntypedStorage directly, use tensor.untyped_storage() instead of tensor.storage()\n",
      "  storage = elem.storage()._new_shared(numel)\n",
      "/cvmfs/sft.cern.ch/lcg/views/LCG_104a_cuda/x86_64-centos7-gcc11-opt/lib/python3.9/site-packages/torch_geometric/data/collate.py:145: UserWarning: TypedStorage is deprecated. It will be removed in the future and UntypedStorage will be the only storage class. This should only matter to you if you are using storages directly.  To access UntypedStorage directly, use tensor.untyped_storage() instead of tensor.storage()\n",
      "  storage = elem.storage()._new_shared(numel)\n",
      "/cvmfs/sft.cern.ch/lcg/views/LCG_104a_cuda/x86_64-centos7-gcc11-opt/lib/python3.9/site-packages/torch_geometric/data/collate.py:145: UserWarning: TypedStorage is deprecated. It will be removed in the future and UntypedStorage will be the only storage class. This should only matter to you if you are using storages directly.  To access UntypedStorage directly, use tensor.untyped_storage() instead of tensor.storage()\n",
      "  storage = elem.storage()._new_shared(numel)\n",
      "/cvmfs/sft.cern.ch/lcg/views/LCG_104a_cuda/x86_64-centos7-gcc11-opt/lib/python3.9/site-packages/torch_geometric/data/collate.py:145: UserWarning: TypedStorage is deprecated. It will be removed in the future and UntypedStorage will be the only storage class. This should only matter to you if you are using storages directly.  To access UntypedStorage directly, use tensor.untyped_storage() instead of tensor.storage()\n",
      "  storage = elem.storage()._new_shared(numel)\n"
     ]
    }
   ],
   "source": [
    "software1 = SW(input_directory, output_directory, name='pu-test')\n",
    "sample_metadata = dict(zip(\n",
    "    map(str, list(range(20, 81))), # Range on PU values\n",
    "    np.ones(61) * 100               # Number of events at a given PU\n",
    "))\n",
    "\n",
    "software1.set_dataset(HomoDataset,      # Your Dataset Type\n",
    "                      sample_metadata, \n",
    "                      HomoDataReader()  # A Data Reader Function\n",
    "                     )\n",
    "\n",
    "software1.set_loader(DataLoader, # Your Dataloader Type\n",
    "#                      loading_workers=4,\n",
    "                     batch_size=4,\n",
    "                     num_workers=16\n",
    "                    )"
   ]
  },
  {
   "attachments": {},
   "cell_type": "markdown",
   "id": "5a5aff85",
   "metadata": {},
   "source": [
    "# Enter into the `TrainerScope` of Your `SW`:"
   ]
  },
  {
   "cell_type": "code",
   "execution_count": null,
   "id": "35d971c5",
   "metadata": {},
   "outputs": [],
   "source": [
    "with software1.trainer_scope(Trainer) as pu_trainer:\n",
    "    pu_trainer.set(model)\n",
    "    res = pu_trainer.train(\n",
    "        max_epochs=5, optimizer=torch.optim.RAdam,\n",
    "        optimizer_args=dict(lr=5e-3),\n",
    "        loss_fn=torch.nn.L1Loss,\n",
    "        metrics=[MAPE(), Bias()], select_topk=5,\n",
    "        lr_scheduler=torch.optim.lr_scheduler.MultiStepLR,\n",
    "        lr_scheduler_args=dict(milestones=[7, 15, 25, 35], gamma=0.06),\n",
    "    )"
   ]
  },
  {
   "attachments": {},
   "cell_type": "markdown",
   "id": "0123e35d",
   "metadata": {},
   "source": [
    "# After Training, Let's Enter into the `AnalyzerScope`:"
   ]
  },
  {
   "cell_type": "code",
   "execution_count": 10,
   "id": "ca959282",
   "metadata": {
    "scrolled": false
   },
   "outputs": [
    {
     "name": "stderr",
     "output_type": "stream",
     "text": [
      "processing...\n"
     ]
    },
    {
     "data": {
      "application/vnd.jupyter.widget-view+json": {
       "model_id": "3dc3f8c973be43689a65688fe3efe5a0",
       "version_major": 2,
       "version_minor": 0
      },
      "text/plain": [
       "Evaluating...:   0%|          | 0/16 [00:00<?, ?Batch/s]"
      ]
     },
     "metadata": {},
     "output_type": "display_data"
    },
    {
     "data": {
      "application/vnd.jupyter.widget-view+json": {
       "model_id": "174efb2df21241cda7092b57d508d4e9",
       "version_major": 2,
       "version_minor": 0
      },
      "text/plain": [
       "Range-Based LLE:   0%|          | 0/31 [00:00<?, ?PU/s]"
      ]
     },
     "metadata": {},
     "output_type": "display_data"
    },
    {
     "data": {
      "application/vnd.jupyter.widget-view+json": {
       "model_id": "5bfdb4d3e53642c38302561f83fcf47e",
       "version_major": 2,
       "version_minor": 0
      },
      "text/plain": [
       "PU = 30 Indexing...:   0%|          | 0/61 [00:00<?, ?Graph/s]"
      ]
     },
     "metadata": {},
     "output_type": "display_data"
    },
    {
     "name": "stderr",
     "output_type": "stream",
     "text": [
      "Change factor variable `fraction` (current value is `0.6`) based on the following:\n",
      "\tPoisson distribution(30) for PU = 27.0 is violated by 1 count less than expected\n",
      "\tPoisson distribution(30) for PU = 28.0 is violated by 1 count less than expected\n",
      "\tPoisson distribution(30) for PU = 32.0 is violated by 1 count less than expected\n",
      "\tPoisson distribution(30) for PU = 36.0 is violated by 1 count less than expected\n",
      "/eos/home-i04/c/cmstandi/SWAN_projects/saleh-highlights/PUGNN/PUGNN/utils/postprocessing_tools.py:8: RuntimeWarning:\n",
      "\n",
      "invalid value encountered in log\n",
      "\n"
     ]
    },
    {
     "ename": "RuntimeError",
     "evalue": "Error interval Computation Failed",
     "output_type": "error",
     "traceback": [
      "\u001b[0;31m---------------------------------------------------------------------------\u001b[0m",
      "\u001b[0;31mRuntimeError\u001b[0m                              Traceback (most recent call last)",
      "\u001b[0;32m/tmp/ipykernel_409/2479586842.py\u001b[0m in \u001b[0;36m<module>\u001b[0;34m\u001b[0m\n\u001b[1;32m      8\u001b[0m     \u001b[0mmetrics\u001b[0m    \u001b[0;34m=\u001b[0m \u001b[0mpu_analyzer\u001b[0m\u001b[0;34m.\u001b[0m\u001b[0mapply_metrics\u001b[0m\u001b[0;34m(\u001b[0m\u001b[0;34m[\u001b[0m\u001b[0mBias\u001b[0m\u001b[0;34m(\u001b[0m\u001b[0;34m)\u001b[0m\u001b[0;34m,\u001b[0m \u001b[0mMAPE\u001b[0m\u001b[0;34m(\u001b[0m\u001b[0;34m)\u001b[0m\u001b[0;34m]\u001b[0m\u001b[0;34m)\u001b[0m\u001b[0;34m\u001b[0m\u001b[0;34m\u001b[0m\u001b[0m\n\u001b[1;32m      9\u001b[0m     \u001b[0mdist_plots\u001b[0m \u001b[0;34m=\u001b[0m \u001b[0mpu_analyzer\u001b[0m\u001b[0;34m.\u001b[0m\u001b[0mdistribution_plots\u001b[0m\u001b[0;34m(\u001b[0m\u001b[0;34m)\u001b[0m\u001b[0;34m\u001b[0m\u001b[0;34m\u001b[0m\u001b[0m\n\u001b[0;32m---> 10\u001b[0;31m     \u001b[0mLLERes\u001b[0m     \u001b[0;34m=\u001b[0m \u001b[0mpu_analyzer\u001b[0m\u001b[0;34m.\u001b[0m\u001b[0mrangeLLE\u001b[0m\u001b[0;34m(\u001b[0m\u001b[0;36m30\u001b[0m\u001b[0;34m,\u001b[0m\u001b[0;36m60\u001b[0m\u001b[0;34m)\u001b[0m\u001b[0;34m\u001b[0m\u001b[0;34m\u001b[0m\u001b[0m\n\u001b[0m\u001b[1;32m     11\u001b[0m \u001b[0;34m\u001b[0m\u001b[0m\n\u001b[1;32m     12\u001b[0m     \u001b[0mno_verts\u001b[0m   \u001b[0;34m=\u001b[0m \u001b[0mpu_analyzer\u001b[0m\u001b[0;34m.\u001b[0m\u001b[0mextract_feature\u001b[0m\u001b[0;34m(\u001b[0m\u001b[0;36m0\u001b[0m\u001b[0;34m,\u001b[0m \u001b[0;36m7\u001b[0m\u001b[0;34m)\u001b[0m\u001b[0;34m\u001b[0m\u001b[0;34m\u001b[0m\u001b[0m\n",
      "\u001b[0;32m/eos/home-i04/c/cmstandi/SWAN_projects/saleh-highlights/PUGNN/PUGNN/__init__.py\u001b[0m in \u001b[0;36mrangeLLE\u001b[0;34m(self, starting_pu, ending_pu, fraction)\u001b[0m\n\u001b[1;32m    298\u001b[0m \u001b[0;34m\u001b[0m\u001b[0m\n\u001b[1;32m    299\u001b[0m         \u001b[0;32mfor\u001b[0m \u001b[0mind\u001b[0m\u001b[0;34m,\u001b[0m \u001b[0mpu\u001b[0m \u001b[0;32min\u001b[0m \u001b[0menumerate\u001b[0m\u001b[0;34m(\u001b[0m\u001b[0mtqdm\u001b[0m\u001b[0;34m(\u001b[0m\u001b[0mav_PUs\u001b[0m\u001b[0;34m,\u001b[0m \u001b[0mdesc\u001b[0m\u001b[0;34m=\u001b[0m\u001b[0;34m'Range-Based LLE'\u001b[0m\u001b[0;34m,\u001b[0m  \u001b[0munit\u001b[0m\u001b[0;34m=\u001b[0m\u001b[0;34m'PU'\u001b[0m\u001b[0;34m)\u001b[0m\u001b[0;34m)\u001b[0m\u001b[0;34m:\u001b[0m\u001b[0;34m\u001b[0m\u001b[0;34m\u001b[0m\u001b[0m\n\u001b[0;32m--> 300\u001b[0;31m             \u001b[0mtemp\u001b[0m\u001b[0;34m,\u001b[0m \u001b[0mx\u001b[0m\u001b[0;34m,\u001b[0m \u001b[0mxhat\u001b[0m \u001b[0;34m=\u001b[0m \u001b[0mself\u001b[0m\u001b[0;34m.\u001b[0m\u001b[0mLLEstimation\u001b[0m\u001b[0;34m(\u001b[0m\u001b[0mpu\u001b[0m\u001b[0;34m,\u001b[0m \u001b[0mfraction\u001b[0m\u001b[0;34m)\u001b[0m\u001b[0;34m\u001b[0m\u001b[0;34m\u001b[0m\u001b[0m\n\u001b[0m\u001b[1;32m    301\u001b[0m             \u001b[0mact\u001b[0m \u001b[0;34m=\u001b[0m \u001b[0mx\u001b[0m\u001b[0;34m.\u001b[0m\u001b[0mmean\u001b[0m\u001b[0;34m(\u001b[0m\u001b[0;34m)\u001b[0m\u001b[0;34m\u001b[0m\u001b[0;34m\u001b[0m\u001b[0m\n\u001b[1;32m    302\u001b[0m             \u001b[0mle\u001b[0m\u001b[0;34m,\u001b[0m \u001b[0mmle\u001b[0m\u001b[0;34m,\u001b[0m \u001b[0mre\u001b[0m \u001b[0;34m=\u001b[0m \u001b[0mtemp\u001b[0m\u001b[0;34m\u001b[0m\u001b[0;34m\u001b[0m\u001b[0m\n",
      "\u001b[0;32m/eos/home-i04/c/cmstandi/SWAN_projects/saleh-highlights/PUGNN/PUGNN/__init__.py\u001b[0m in \u001b[0;36mLLEstimation\u001b[0;34m(self, av_pu, f)\u001b[0m\n\u001b[1;32m    288\u001b[0m         \u001b[0mx\u001b[0m    \u001b[0;34m=\u001b[0m \u001b[0mself\u001b[0m\u001b[0;34m.\u001b[0m\u001b[0m_y\u001b[0m\u001b[0;34m[\u001b[0m\u001b[0minds\u001b[0m\u001b[0;34m]\u001b[0m\u001b[0;34m\u001b[0m\u001b[0;34m\u001b[0m\u001b[0m\n\u001b[1;32m    289\u001b[0m \u001b[0;34m\u001b[0m\u001b[0m\n\u001b[0;32m--> 290\u001b[0;31m         \u001b[0;32mreturn\u001b[0m \u001b[0mmax_log_likelihood\u001b[0m\u001b[0;34m(\u001b[0m\u001b[0mxhat\u001b[0m\u001b[0;34m,\u001b[0m \u001b[0mllikelihood_pois\u001b[0m\u001b[0;34m,\u001b[0m \u001b[0mav_pu\u001b[0m\u001b[0;34m)\u001b[0m\u001b[0;34m,\u001b[0m \u001b[0mx\u001b[0m\u001b[0;34m,\u001b[0m \u001b[0mxhat\u001b[0m\u001b[0;34m\u001b[0m\u001b[0;34m\u001b[0m\u001b[0m\n\u001b[0m\u001b[1;32m    291\u001b[0m \u001b[0;34m\u001b[0m\u001b[0m\n\u001b[1;32m    292\u001b[0m     \u001b[0;32mdef\u001b[0m \u001b[0mrangeLLE\u001b[0m\u001b[0;34m(\u001b[0m\u001b[0mself\u001b[0m\u001b[0;34m,\u001b[0m \u001b[0mstarting_pu\u001b[0m\u001b[0;34m,\u001b[0m \u001b[0mending_pu\u001b[0m\u001b[0;34m,\u001b[0m \u001b[0mfraction\u001b[0m\u001b[0;34m=\u001b[0m\u001b[0;36m0.6\u001b[0m\u001b[0;34m)\u001b[0m\u001b[0;34m:\u001b[0m\u001b[0;34m\u001b[0m\u001b[0;34m\u001b[0m\u001b[0m\n",
      "\u001b[0;32m/eos/home-i04/c/cmstandi/SWAN_projects/saleh-highlights/PUGNN/PUGNN/utils/postprocessing_tools.py\u001b[0m in \u001b[0;36mmax_log_likelihood\u001b[0;34m(x, loglikelihood_func, init_guess)\u001b[0m\n\u001b[1;32m     21\u001b[0m \u001b[0;34m\u001b[0m\u001b[0m\n\u001b[1;32m     22\u001b[0m     \u001b[0;32mif\u001b[0m \u001b[0;32mnot\u001b[0m \u001b[0msuccess\u001b[0m\u001b[0;34m:\u001b[0m\u001b[0;34m\u001b[0m\u001b[0;34m\u001b[0m\u001b[0m\n\u001b[0;32m---> 23\u001b[0;31m         \u001b[0;32mraise\u001b[0m \u001b[0mRuntimeError\u001b[0m\u001b[0;34m(\u001b[0m\u001b[0;34m\"Error interval Computation Failed\"\u001b[0m\u001b[0;34m)\u001b[0m\u001b[0;34m\u001b[0m\u001b[0;34m\u001b[0m\u001b[0m\n\u001b[0m\u001b[1;32m     24\u001b[0m \u001b[0;34m\u001b[0m\u001b[0m\n\u001b[1;32m     25\u001b[0m     \u001b[0;32mreturn\u001b[0m \u001b[0mmle\u001b[0m \u001b[0;34m-\u001b[0m \u001b[0mres_l\u001b[0m\u001b[0;34m.\u001b[0m\u001b[0mx\u001b[0m\u001b[0;34m,\u001b[0m \u001b[0mmle\u001b[0m\u001b[0;34m,\u001b[0m \u001b[0mres_r\u001b[0m\u001b[0;34m.\u001b[0m\u001b[0mx\u001b[0m \u001b[0;34m-\u001b[0m \u001b[0mmle\u001b[0m\u001b[0;34m\u001b[0m\u001b[0;34m\u001b[0m\u001b[0m\n",
      "\u001b[0;31mRuntimeError\u001b[0m: Error interval Computation Failed"
     ]
    }
   ],
   "source": [
    "eval_model = PUModel(in_channels=15, hidden_channels=150, num_features=7, out_channels=1, GNN=GATv2Conv)\n",
    "\n",
    "with software1.analyzer_scope() as pu_analyzer:\n",
    "    pu_analyzer(eval_model, res.models, torch.nn.L1Loss())\n",
    "    \n",
    "    best_model = pu_analyzer.model\n",
    "    res_plot   = pu_analyzer.residual_plot()\n",
    "    metrics    = pu_analyzer.apply_metrics([Bias(), MAPE()])\n",
    "    dist_plots = pu_analyzer.distribution_plots()\n",
    "    LLERes     = pu_analyzer.rangeLLE(30,60)\n",
    "    \n",
    "    no_verts   = pu_analyzer.extract_feature(0, 7)\n",
    "    comparing  = pu_analyzer.compare(\n",
    "        # Here, you can add the outputs as follows:\n",
    "        # `model2` = (model2_summary.y, model2_summary.yhat)\n",
    "        # `model3` = ...\n",
    "        NV = (pu_analyzer.y, no_verts)\n",
    "    )"
   ]
  },
  {
   "attachments": {},
   "cell_type": "markdown",
   "id": "9eee84ec",
   "metadata": {},
   "source": [
    "## Distribution plots"
   ]
  },
  {
   "cell_type": "code",
   "execution_count": null,
   "id": "25bc3df7",
   "metadata": {},
   "outputs": [],
   "source": [
    "dist_plots.heatmap"
   ]
  },
  {
   "cell_type": "code",
   "execution_count": null,
   "id": "39847b4e",
   "metadata": {},
   "outputs": [],
   "source": [
    "dist_plots.histogram"
   ]
  },
  {
   "cell_type": "code",
   "execution_count": null,
   "id": "a87e1787",
   "metadata": {},
   "outputs": [],
   "source": [
    "dist_plots.kdeplot"
   ]
  },
  {
   "attachments": {},
   "cell_type": "markdown",
   "id": "1b4ce45a",
   "metadata": {},
   "source": [
    "## Residual plot"
   ]
  },
  {
   "cell_type": "code",
   "execution_count": null,
   "id": "5d398bc8",
   "metadata": {},
   "outputs": [],
   "source": [
    "res_plot"
   ]
  },
  {
   "attachments": {},
   "cell_type": "markdown",
   "id": "80d961a1",
   "metadata": {},
   "source": [
    "## Compare the model with another models"
   ]
  },
  {
   "cell_type": "code",
   "execution_count": null,
   "id": "979b3c37",
   "metadata": {},
   "outputs": [],
   "source": [
    "comparing.plot   # Visualize the comparasion"
   ]
  },
  {
   "cell_type": "code",
   "execution_count": null,
   "id": "ce1e69ff",
   "metadata": {},
   "outputs": [],
   "source": [
    "comparing.R2     # R2 factor of model itself and with other models if they exist"
   ]
  },
  {
   "attachments": {},
   "cell_type": "markdown",
   "id": "dd4d0738",
   "metadata": {},
   "source": [
    "## Log-likelihood Estimation through a Given Range of $<PU>=L\\sigma$"
   ]
  },
  {
   "cell_type": "code",
   "execution_count": null,
   "id": "71ee7bfe",
   "metadata": {},
   "outputs": [],
   "source": [
    "LLERes.plot  # The plot of the result"
   ]
  },
  {
   "cell_type": "code",
   "execution_count": null,
   "id": "ae9a5744",
   "metadata": {},
   "outputs": [],
   "source": [
    "LLERes.estimated_pu       # Estimated <PU> by model"
   ]
  },
  {
   "cell_type": "code",
   "execution_count": null,
   "id": "a45d7eb6",
   "metadata": {},
   "outputs": [],
   "source": [
    "LLERes.true_pu            # Expected or real <PU>"
   ]
  },
  {
   "cell_type": "code",
   "execution_count": null,
   "id": "48bf16ad",
   "metadata": {},
   "outputs": [],
   "source": [
    "LLERes.lower_bond_error   # Lower-bond error of estimation"
   ]
  },
  {
   "cell_type": "code",
   "execution_count": null,
   "id": "063ada3d",
   "metadata": {},
   "outputs": [],
   "source": [
    "LLERes.upper_bond_error   # Upper-bond error of estimation"
   ]
  }
 ],
 "metadata": {
  "@webio": {
   "lastCommId": null,
   "lastKernelId": null
  },
  "kernelspec": {
   "display_name": "Python 3",
   "language": "python",
   "name": "python3"
  },
  "language_info": {
   "codemirror_mode": {
    "name": "ipython",
    "version": 3
   },
   "file_extension": ".py",
   "mimetype": "text/x-python",
   "name": "python",
   "nbconvert_exporter": "python",
   "pygments_lexer": "ipython3",
   "version": "3.9.12"
  }
 },
 "nbformat": 4,
 "nbformat_minor": 5
}
